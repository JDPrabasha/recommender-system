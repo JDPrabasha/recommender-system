{
 "metadata": {
  "language_info": {
   "codemirror_mode": {
    "name": "ipython",
    "version": 3
   },
   "file_extension": ".py",
   "mimetype": "text/x-python",
   "name": "python",
   "nbconvert_exporter": "python",
   "pygments_lexer": "ipython3",
   "version": "3.6.8"
  },
  "orig_nbformat": 2,
  "kernelspec": {
   "name": "python368jvsc74a57bd005ece30799c2dcdac4c13b3af20453da19de8df0d9a1de52cff7e0b6e1e82bdd",
   "display_name": "Python 3.6.8 64-bit"
  },
  "metadata": {
   "interpreter": {
    "hash": "05ece30799c2dcdac4c13b3af20453da19de8df0d9a1de52cff7e0b6e1e82bdd"
   }
  }
 },
 "nbformat": 4,
 "nbformat_minor": 2,
 "cells": [
  {
   "cell_type": "code",
   "execution_count": 1,
   "metadata": {},
   "outputs": [],
   "source": [
    "import pandas as pd \n",
    "from scipy import sparse\n",
    "from sklearn.metrics.pairwise import cosine_similarity"
   ]
  },
  {
   "cell_type": "code",
   "execution_count": 3,
   "metadata": {},
   "outputs": [
    {
     "output_type": "execute_result",
     "data": {
      "text/plain": [
       "   userId  movieId  rating  timestamp\n",
       "0       1        1     4.0  964982703\n",
       "1       1        3     4.0  964981247\n",
       "2       1        6     4.0  964982224\n",
       "3       1       47     5.0  964983815\n",
       "4       1       50     5.0  964982931"
      ],
      "text/html": "<div>\n<style scoped>\n    .dataframe tbody tr th:only-of-type {\n        vertical-align: middle;\n    }\n\n    .dataframe tbody tr th {\n        vertical-align: top;\n    }\n\n    .dataframe thead th {\n        text-align: right;\n    }\n</style>\n<table border=\"1\" class=\"dataframe\">\n  <thead>\n    <tr style=\"text-align: right;\">\n      <th></th>\n      <th>userId</th>\n      <th>movieId</th>\n      <th>rating</th>\n      <th>timestamp</th>\n    </tr>\n  </thead>\n  <tbody>\n    <tr>\n      <th>0</th>\n      <td>1</td>\n      <td>1</td>\n      <td>4.0</td>\n      <td>964982703</td>\n    </tr>\n    <tr>\n      <th>1</th>\n      <td>1</td>\n      <td>3</td>\n      <td>4.0</td>\n      <td>964981247</td>\n    </tr>\n    <tr>\n      <th>2</th>\n      <td>1</td>\n      <td>6</td>\n      <td>4.0</td>\n      <td>964982224</td>\n    </tr>\n    <tr>\n      <th>3</th>\n      <td>1</td>\n      <td>47</td>\n      <td>5.0</td>\n      <td>964983815</td>\n    </tr>\n    <tr>\n      <th>4</th>\n      <td>1</td>\n      <td>50</td>\n      <td>5.0</td>\n      <td>964982931</td>\n    </tr>\n  </tbody>\n</table>\n</div>"
     },
     "metadata": {},
     "execution_count": 3
    }
   ],
   "source": [
    "df=pd.read_csv(\"dataset/ratings.csv\")\n",
    "df.head()"
   ]
  },
  {
   "cell_type": "code",
   "execution_count": 31,
   "metadata": {},
   "outputs": [
    {
     "output_type": "execute_result",
     "data": {
      "text/plain": [
       "(9724, 3)"
      ]
     },
     "metadata": {},
     "execution_count": 31
    }
   ],
   "source": [
    "titles = pd.read_csv(\"dataset/movies.csv\")\n",
    "titles=titles[0:9724]\n",
    "titles.shape"
   ]
  },
  {
   "cell_type": "code",
   "execution_count": 14,
   "metadata": {},
   "outputs": [],
   "source": [
    "new_df=df.pivot(index='userId', columns='movieId', values='rating')"
   ]
  },
  {
   "cell_type": "code",
   "execution_count": 17,
   "metadata": {},
   "outputs": [
    {
     "output_type": "execute_result",
     "data": {
      "text/plain": [
       "movieId  1       2       3       4       5       6       7       8       \\\n",
       "userId                                                                    \n",
       "1           4.0     NaN     4.0     NaN     NaN     4.0     NaN     NaN   \n",
       "2           NaN     NaN     NaN     NaN     NaN     NaN     NaN     NaN   \n",
       "3           NaN     NaN     NaN     NaN     NaN     NaN     NaN     NaN   \n",
       "4           NaN     NaN     NaN     NaN     NaN     NaN     NaN     NaN   \n",
       "5           4.0     NaN     NaN     NaN     NaN     NaN     NaN     NaN   \n",
       "6           NaN     4.0     5.0     3.0     5.0     4.0     4.0     3.0   \n",
       "7           4.5     NaN     NaN     NaN     NaN     NaN     NaN     NaN   \n",
       "8           NaN     4.0     NaN     NaN     NaN     NaN     NaN     NaN   \n",
       "9           NaN     NaN     NaN     NaN     NaN     NaN     NaN     NaN   \n",
       "10          NaN     NaN     NaN     NaN     NaN     NaN     NaN     NaN   \n",
       "\n",
       "movieId  9       10      ...  193565  193567  193571  193573  193579  193581  \\\n",
       "userId                   ...                                                   \n",
       "1           NaN     NaN  ...     NaN     NaN     NaN     NaN     NaN     NaN   \n",
       "2           NaN     NaN  ...     NaN     NaN     NaN     NaN     NaN     NaN   \n",
       "3           NaN     NaN  ...     NaN     NaN     NaN     NaN     NaN     NaN   \n",
       "4           NaN     NaN  ...     NaN     NaN     NaN     NaN     NaN     NaN   \n",
       "5           NaN     NaN  ...     NaN     NaN     NaN     NaN     NaN     NaN   \n",
       "6           NaN     3.0  ...     NaN     NaN     NaN     NaN     NaN     NaN   \n",
       "7           NaN     NaN  ...     NaN     NaN     NaN     NaN     NaN     NaN   \n",
       "8           NaN     2.0  ...     NaN     NaN     NaN     NaN     NaN     NaN   \n",
       "9           NaN     NaN  ...     NaN     NaN     NaN     NaN     NaN     NaN   \n",
       "10          NaN     NaN  ...     NaN     NaN     NaN     NaN     NaN     NaN   \n",
       "\n",
       "movieId  193583  193585  193587  193609  \n",
       "userId                                   \n",
       "1           NaN     NaN     NaN     NaN  \n",
       "2           NaN     NaN     NaN     NaN  \n",
       "3           NaN     NaN     NaN     NaN  \n",
       "4           NaN     NaN     NaN     NaN  \n",
       "5           NaN     NaN     NaN     NaN  \n",
       "6           NaN     NaN     NaN     NaN  \n",
       "7           NaN     NaN     NaN     NaN  \n",
       "8           NaN     NaN     NaN     NaN  \n",
       "9           NaN     NaN     NaN     NaN  \n",
       "10          NaN     NaN     NaN     NaN  \n",
       "\n",
       "[10 rows x 9724 columns]"
      ],
      "text/html": "<div>\n<style scoped>\n    .dataframe tbody tr th:only-of-type {\n        vertical-align: middle;\n    }\n\n    .dataframe tbody tr th {\n        vertical-align: top;\n    }\n\n    .dataframe thead th {\n        text-align: right;\n    }\n</style>\n<table border=\"1\" class=\"dataframe\">\n  <thead>\n    <tr style=\"text-align: right;\">\n      <th>movieId</th>\n      <th>1</th>\n      <th>2</th>\n      <th>3</th>\n      <th>4</th>\n      <th>5</th>\n      <th>6</th>\n      <th>7</th>\n      <th>8</th>\n      <th>9</th>\n      <th>10</th>\n      <th>...</th>\n      <th>193565</th>\n      <th>193567</th>\n      <th>193571</th>\n      <th>193573</th>\n      <th>193579</th>\n      <th>193581</th>\n      <th>193583</th>\n      <th>193585</th>\n      <th>193587</th>\n      <th>193609</th>\n    </tr>\n    <tr>\n      <th>userId</th>\n      <th></th>\n      <th></th>\n      <th></th>\n      <th></th>\n      <th></th>\n      <th></th>\n      <th></th>\n      <th></th>\n      <th></th>\n      <th></th>\n      <th></th>\n      <th></th>\n      <th></th>\n      <th></th>\n      <th></th>\n      <th></th>\n      <th></th>\n      <th></th>\n      <th></th>\n      <th></th>\n      <th></th>\n    </tr>\n  </thead>\n  <tbody>\n    <tr>\n      <th>1</th>\n      <td>4.0</td>\n      <td>NaN</td>\n      <td>4.0</td>\n      <td>NaN</td>\n      <td>NaN</td>\n      <td>4.0</td>\n      <td>NaN</td>\n      <td>NaN</td>\n      <td>NaN</td>\n      <td>NaN</td>\n      <td>...</td>\n      <td>NaN</td>\n      <td>NaN</td>\n      <td>NaN</td>\n      <td>NaN</td>\n      <td>NaN</td>\n      <td>NaN</td>\n      <td>NaN</td>\n      <td>NaN</td>\n      <td>NaN</td>\n      <td>NaN</td>\n    </tr>\n    <tr>\n      <th>2</th>\n      <td>NaN</td>\n      <td>NaN</td>\n      <td>NaN</td>\n      <td>NaN</td>\n      <td>NaN</td>\n      <td>NaN</td>\n      <td>NaN</td>\n      <td>NaN</td>\n      <td>NaN</td>\n      <td>NaN</td>\n      <td>...</td>\n      <td>NaN</td>\n      <td>NaN</td>\n      <td>NaN</td>\n      <td>NaN</td>\n      <td>NaN</td>\n      <td>NaN</td>\n      <td>NaN</td>\n      <td>NaN</td>\n      <td>NaN</td>\n      <td>NaN</td>\n    </tr>\n    <tr>\n      <th>3</th>\n      <td>NaN</td>\n      <td>NaN</td>\n      <td>NaN</td>\n      <td>NaN</td>\n      <td>NaN</td>\n      <td>NaN</td>\n      <td>NaN</td>\n      <td>NaN</td>\n      <td>NaN</td>\n      <td>NaN</td>\n      <td>...</td>\n      <td>NaN</td>\n      <td>NaN</td>\n      <td>NaN</td>\n      <td>NaN</td>\n      <td>NaN</td>\n      <td>NaN</td>\n      <td>NaN</td>\n      <td>NaN</td>\n      <td>NaN</td>\n      <td>NaN</td>\n    </tr>\n    <tr>\n      <th>4</th>\n      <td>NaN</td>\n      <td>NaN</td>\n      <td>NaN</td>\n      <td>NaN</td>\n      <td>NaN</td>\n      <td>NaN</td>\n      <td>NaN</td>\n      <td>NaN</td>\n      <td>NaN</td>\n      <td>NaN</td>\n      <td>...</td>\n      <td>NaN</td>\n      <td>NaN</td>\n      <td>NaN</td>\n      <td>NaN</td>\n      <td>NaN</td>\n      <td>NaN</td>\n      <td>NaN</td>\n      <td>NaN</td>\n      <td>NaN</td>\n      <td>NaN</td>\n    </tr>\n    <tr>\n      <th>5</th>\n      <td>4.0</td>\n      <td>NaN</td>\n      <td>NaN</td>\n      <td>NaN</td>\n      <td>NaN</td>\n      <td>NaN</td>\n      <td>NaN</td>\n      <td>NaN</td>\n      <td>NaN</td>\n      <td>NaN</td>\n      <td>...</td>\n      <td>NaN</td>\n      <td>NaN</td>\n      <td>NaN</td>\n      <td>NaN</td>\n      <td>NaN</td>\n      <td>NaN</td>\n      <td>NaN</td>\n      <td>NaN</td>\n      <td>NaN</td>\n      <td>NaN</td>\n    </tr>\n    <tr>\n      <th>6</th>\n      <td>NaN</td>\n      <td>4.0</td>\n      <td>5.0</td>\n      <td>3.0</td>\n      <td>5.0</td>\n      <td>4.0</td>\n      <td>4.0</td>\n      <td>3.0</td>\n      <td>NaN</td>\n      <td>3.0</td>\n      <td>...</td>\n      <td>NaN</td>\n      <td>NaN</td>\n      <td>NaN</td>\n      <td>NaN</td>\n      <td>NaN</td>\n      <td>NaN</td>\n      <td>NaN</td>\n      <td>NaN</td>\n      <td>NaN</td>\n      <td>NaN</td>\n    </tr>\n    <tr>\n      <th>7</th>\n      <td>4.5</td>\n      <td>NaN</td>\n      <td>NaN</td>\n      <td>NaN</td>\n      <td>NaN</td>\n      <td>NaN</td>\n      <td>NaN</td>\n      <td>NaN</td>\n      <td>NaN</td>\n      <td>NaN</td>\n      <td>...</td>\n      <td>NaN</td>\n      <td>NaN</td>\n      <td>NaN</td>\n      <td>NaN</td>\n      <td>NaN</td>\n      <td>NaN</td>\n      <td>NaN</td>\n      <td>NaN</td>\n      <td>NaN</td>\n      <td>NaN</td>\n    </tr>\n    <tr>\n      <th>8</th>\n      <td>NaN</td>\n      <td>4.0</td>\n      <td>NaN</td>\n      <td>NaN</td>\n      <td>NaN</td>\n      <td>NaN</td>\n      <td>NaN</td>\n      <td>NaN</td>\n      <td>NaN</td>\n      <td>2.0</td>\n      <td>...</td>\n      <td>NaN</td>\n      <td>NaN</td>\n      <td>NaN</td>\n      <td>NaN</td>\n      <td>NaN</td>\n      <td>NaN</td>\n      <td>NaN</td>\n      <td>NaN</td>\n      <td>NaN</td>\n      <td>NaN</td>\n    </tr>\n    <tr>\n      <th>9</th>\n      <td>NaN</td>\n      <td>NaN</td>\n      <td>NaN</td>\n      <td>NaN</td>\n      <td>NaN</td>\n      <td>NaN</td>\n      <td>NaN</td>\n      <td>NaN</td>\n      <td>NaN</td>\n      <td>NaN</td>\n      <td>...</td>\n      <td>NaN</td>\n      <td>NaN</td>\n      <td>NaN</td>\n      <td>NaN</td>\n      <td>NaN</td>\n      <td>NaN</td>\n      <td>NaN</td>\n      <td>NaN</td>\n      <td>NaN</td>\n      <td>NaN</td>\n    </tr>\n    <tr>\n      <th>10</th>\n      <td>NaN</td>\n      <td>NaN</td>\n      <td>NaN</td>\n      <td>NaN</td>\n      <td>NaN</td>\n      <td>NaN</td>\n      <td>NaN</td>\n      <td>NaN</td>\n      <td>NaN</td>\n      <td>NaN</td>\n      <td>...</td>\n      <td>NaN</td>\n      <td>NaN</td>\n      <td>NaN</td>\n      <td>NaN</td>\n      <td>NaN</td>\n      <td>NaN</td>\n      <td>NaN</td>\n      <td>NaN</td>\n      <td>NaN</td>\n      <td>NaN</td>\n    </tr>\n  </tbody>\n</table>\n<p>10 rows × 9724 columns</p>\n</div>"
     },
     "metadata": {},
     "execution_count": 17
    }
   ],
   "source": [
    "new_df.head(10)"
   ]
  },
  {
   "cell_type": "code",
   "execution_count": 19,
   "metadata": {},
   "outputs": [],
   "source": [
    "new_df=new_df.fillna(0)"
   ]
  },
  {
   "cell_type": "code",
   "execution_count": 21,
   "metadata": {},
   "outputs": [],
   "source": [
    "def standardize(row):\n",
    "    new_row = (row-row.mean())/(row.max()-row.min())\n",
    "    return new_row"
   ]
  },
  {
   "cell_type": "code",
   "execution_count": 25,
   "metadata": {},
   "outputs": [],
   "source": [
    "standard_df=new_df.apply(standardize)"
   ]
  },
  {
   "cell_type": "code",
   "execution_count": 26,
   "metadata": {},
   "outputs": [
    {
     "output_type": "execute_result",
     "data": {
      "text/plain": [
       "array([[ 1.        ,  0.2313265 ,  0.1732128 , ..., -0.0289057 ,\n",
       "        -0.0289057 , -0.0289057 ],\n",
       "       [ 0.2313265 ,  1.        ,  0.19194487, ..., -0.01829073,\n",
       "        -0.01829073, -0.01829073],\n",
       "       [ 0.1732128 ,  0.19194487,  1.        , ..., -0.01172923,\n",
       "        -0.01172923, -0.01172923],\n",
       "       ...,\n",
       "       [-0.0289057 , -0.01829073, -0.01172923, ...,  1.        ,\n",
       "         1.        , -0.00164204],\n",
       "       [-0.0289057 , -0.01829073, -0.01172923, ...,  1.        ,\n",
       "         1.        , -0.00164204],\n",
       "       [-0.0289057 , -0.01829073, -0.01172923, ..., -0.00164204,\n",
       "        -0.00164204,  1.        ]])"
      ]
     },
     "metadata": {},
     "execution_count": 26
    }
   ],
   "source": [
    "item_similarity = cosine_similarity(standard_df.T)\n",
    "item_similarity"
   ]
  },
  {
   "cell_type": "code",
   "execution_count": 32,
   "metadata": {},
   "outputs": [
    {
     "output_type": "execute_result",
     "data": {
      "text/plain": [
       "title                                 Toy Story (1995)  Jumanji (1995)  \\\n",
       "title                                                                    \n",
       "Toy Story (1995)                              1.000000        0.231327   \n",
       "Jumanji (1995)                                0.231327        1.000000   \n",
       "Grumpier Old Men (1995)                       0.173213        0.191945   \n",
       "Waiting to Exhale (1995)                     -0.028917        0.071269   \n",
       "Father of the Bride Part II (1995)            0.192474        0.200526   \n",
       "...                                                ...             ...   \n",
       "Spiral (2018)                                -0.028906       -0.018291   \n",
       "Mission: Impossible - Fallout (2018)         -0.028906       -0.018291   \n",
       "SuperFly (2018)                              -0.028906       -0.018291   \n",
       "Iron Soldier (2010)                          -0.028906       -0.018291   \n",
       "BlacKkKlansman (2018)                        -0.028906       -0.018291   \n",
       "\n",
       "title                                 Grumpier Old Men (1995)  \\\n",
       "title                                                           \n",
       "Toy Story (1995)                                     0.173213   \n",
       "Jumanji (1995)                                       0.191945   \n",
       "Grumpier Old Men (1995)                              1.000000   \n",
       "Waiting to Exhale (1995)                             0.067143   \n",
       "Father of the Bride Part II (1995)                   0.370171   \n",
       "...                                                       ...   \n",
       "Spiral (2018)                                       -0.011729   \n",
       "Mission: Impossible - Fallout (2018)                -0.011729   \n",
       "SuperFly (2018)                                     -0.011729   \n",
       "Iron Soldier (2010)                                 -0.011729   \n",
       "BlacKkKlansman (2018)                               -0.011729   \n",
       "\n",
       "title                                 Waiting to Exhale (1995)  \\\n",
       "title                                                            \n",
       "Toy Story (1995)                                     -0.028917   \n",
       "Jumanji (1995)                                        0.071269   \n",
       "Grumpier Old Men (1995)                               0.067143   \n",
       "Waiting to Exhale (1995)                              1.000000   \n",
       "Father of the Bride Part II (1995)                    0.167910   \n",
       "...                                                        ...   \n",
       "Spiral (2018)                                        -0.004138   \n",
       "Mission: Impossible - Fallout (2018)                 -0.004138   \n",
       "SuperFly (2018)                                      -0.004138   \n",
       "Iron Soldier (2010)                                  -0.004138   \n",
       "BlacKkKlansman (2018)                                -0.004138   \n",
       "\n",
       "title                                 Father of the Bride Part II (1995)  \\\n",
       "title                                                                      \n",
       "Toy Story (1995)                                                0.192474   \n",
       "Jumanji (1995)                                                  0.200526   \n",
       "Grumpier Old Men (1995)                                         0.370171   \n",
       "Waiting to Exhale (1995)                                        0.167910   \n",
       "Father of the Bride Part II (1995)                              1.000000   \n",
       "...                                                                  ...   \n",
       "Spiral (2018)                                                  -0.011456   \n",
       "Mission: Impossible - Fallout (2018)                           -0.011456   \n",
       "SuperFly (2018)                                                -0.011456   \n",
       "Iron Soldier (2010)                                            -0.011456   \n",
       "BlacKkKlansman (2018)                                          -0.011456   \n",
       "\n",
       "title                                 Heat (1995)  Sabrina (1995)  \\\n",
       "title                                                               \n",
       "Toy Story (1995)                         0.192686        0.143743   \n",
       "Jumanji (1995)                           0.158341        0.127569   \n",
       "Grumpier Old Men (1995)                  0.196442        0.351513   \n",
       "Waiting to Exhale (1995)                 0.053755        0.258075   \n",
       "Father of the Bride Part II (1995)       0.215503        0.429890   \n",
       "...                                           ...             ...   \n",
       "Spiral (2018)                           -0.017712       -0.012033   \n",
       "Mission: Impossible - Fallout (2018)    -0.017712       -0.012033   \n",
       "SuperFly (2018)                         -0.017712       -0.012033   \n",
       "Iron Soldier (2010)                     -0.017712       -0.012033   \n",
       "BlacKkKlansman (2018)                   -0.017712       -0.012033   \n",
       "\n",
       "title                                 Tom and Huck (1995)  \\\n",
       "title                                                       \n",
       "Toy Story (1995)                                 0.085477   \n",
       "Jumanji (1995)                                   0.141540   \n",
       "Grumpier Old Men (1995)                          0.296897   \n",
       "Waiting to Exhale (1995)                         0.148726   \n",
       "Father of the Bride Part II (1995)               0.265777   \n",
       "...                                                   ...   \n",
       "Spiral (2018)                                   -0.004383   \n",
       "Mission: Impossible - Fallout (2018)            -0.004383   \n",
       "SuperFly (2018)                                 -0.004383   \n",
       "Iron Soldier (2010)                             -0.004383   \n",
       "BlacKkKlansman (2018)                           -0.004383   \n",
       "\n",
       "title                                 Sudden Death (1995)  GoldenEye (1995)  \\\n",
       "title                                                                         \n",
       "Toy Story (1995)                                 0.177245          0.183382   \n",
       "Jumanji (1995)                                  -0.021045          0.285086   \n",
       "Grumpier Old Men (1995)                          0.275812          0.136916   \n",
       "Waiting to Exhale (1995)                        -0.016025          0.056000   \n",
       "Father of the Bride Part II (1995)               0.308085          0.110833   \n",
       "...                                                   ...               ...   \n",
       "Spiral (2018)                                   -0.006359         -0.020524   \n",
       "Mission: Impossible - Fallout (2018)            -0.006359         -0.020524   \n",
       "SuperFly (2018)                                 -0.006359         -0.020524   \n",
       "Iron Soldier (2010)                             -0.006359         -0.020524   \n",
       "BlacKkKlansman (2018)                           -0.006359          0.060859   \n",
       "\n",
       "title                                 ...  Dogman (2018)  \\\n",
       "title                                 ...                  \n",
       "Toy Story (1995)                      ...      -0.028906   \n",
       "Jumanji (1995)                        ...      -0.018291   \n",
       "Grumpier Old Men (1995)               ...      -0.011729   \n",
       "Waiting to Exhale (1995)              ...      -0.004138   \n",
       "Father of the Bride Part II (1995)    ...      -0.011456   \n",
       "...                                   ...            ...   \n",
       "Spiral (2018)                         ...       1.000000   \n",
       "Mission: Impossible - Fallout (2018)  ...       1.000000   \n",
       "SuperFly (2018)                       ...       1.000000   \n",
       "Iron Soldier (2010)                   ...       1.000000   \n",
       "BlacKkKlansman (2018)                 ...      -0.001642   \n",
       "\n",
       "title                                 Mamma Mia: Here We Go Again! (2018)  \\\n",
       "title                                                                       \n",
       "Toy Story (1995)                                                -0.028906   \n",
       "Jumanji (1995)                                                  -0.018291   \n",
       "Grumpier Old Men (1995)                                         -0.011729   \n",
       "Waiting to Exhale (1995)                                        -0.004138   \n",
       "Father of the Bride Part II (1995)                              -0.011456   \n",
       "...                                                                   ...   \n",
       "Spiral (2018)                                                    1.000000   \n",
       "Mission: Impossible - Fallout (2018)                             1.000000   \n",
       "SuperFly (2018)                                                  1.000000   \n",
       "Iron Soldier (2010)                                              1.000000   \n",
       "BlacKkKlansman (2018)                                           -0.001642   \n",
       "\n",
       "title                                 Tag (2018)  \\\n",
       "title                                              \n",
       "Toy Story (1995)                       -0.028906   \n",
       "Jumanji (1995)                         -0.018291   \n",
       "Grumpier Old Men (1995)                -0.011729   \n",
       "Waiting to Exhale (1995)               -0.004138   \n",
       "Father of the Bride Part II (1995)     -0.011456   \n",
       "...                                          ...   \n",
       "Spiral (2018)                           1.000000   \n",
       "Mission: Impossible - Fallout (2018)    1.000000   \n",
       "SuperFly (2018)                         1.000000   \n",
       "Iron Soldier (2010)                     1.000000   \n",
       "BlacKkKlansman (2018)                  -0.001642   \n",
       "\n",
       "title                                 The Man Who Killed Don Quixote (2018)  \\\n",
       "title                                                                         \n",
       "Toy Story (1995)                                                  -0.028906   \n",
       "Jumanji (1995)                                                    -0.018291   \n",
       "Grumpier Old Men (1995)                                           -0.011729   \n",
       "Waiting to Exhale (1995)                                          -0.004138   \n",
       "Father of the Bride Part II (1995)                                -0.011456   \n",
       "...                                                                     ...   \n",
       "Spiral (2018)                                                      1.000000   \n",
       "Mission: Impossible - Fallout (2018)                               1.000000   \n",
       "SuperFly (2018)                                                    1.000000   \n",
       "Iron Soldier (2010)                                                1.000000   \n",
       "BlacKkKlansman (2018)                                             -0.001642   \n",
       "\n",
       "title                                 Boundaries (2018)  Spiral (2018)  \\\n",
       "title                                                                    \n",
       "Toy Story (1995)                              -0.028906      -0.028906   \n",
       "Jumanji (1995)                                -0.018291      -0.018291   \n",
       "Grumpier Old Men (1995)                       -0.011729      -0.011729   \n",
       "Waiting to Exhale (1995)                      -0.004138      -0.004138   \n",
       "Father of the Bride Part II (1995)            -0.011456      -0.011456   \n",
       "...                                                 ...            ...   \n",
       "Spiral (2018)                                  1.000000       1.000000   \n",
       "Mission: Impossible - Fallout (2018)           1.000000       1.000000   \n",
       "SuperFly (2018)                                1.000000       1.000000   \n",
       "Iron Soldier (2010)                            1.000000       1.000000   \n",
       "BlacKkKlansman (2018)                         -0.001642      -0.001642   \n",
       "\n",
       "title                                 Mission: Impossible - Fallout (2018)  \\\n",
       "title                                                                        \n",
       "Toy Story (1995)                                                 -0.028906   \n",
       "Jumanji (1995)                                                   -0.018291   \n",
       "Grumpier Old Men (1995)                                          -0.011729   \n",
       "Waiting to Exhale (1995)                                         -0.004138   \n",
       "Father of the Bride Part II (1995)                               -0.011456   \n",
       "...                                                                    ...   \n",
       "Spiral (2018)                                                     1.000000   \n",
       "Mission: Impossible - Fallout (2018)                              1.000000   \n",
       "SuperFly (2018)                                                   1.000000   \n",
       "Iron Soldier (2010)                                               1.000000   \n",
       "BlacKkKlansman (2018)                                            -0.001642   \n",
       "\n",
       "title                                 SuperFly (2018)  Iron Soldier (2010)  \\\n",
       "title                                                                        \n",
       "Toy Story (1995)                            -0.028906            -0.028906   \n",
       "Jumanji (1995)                              -0.018291            -0.018291   \n",
       "Grumpier Old Men (1995)                     -0.011729            -0.011729   \n",
       "Waiting to Exhale (1995)                    -0.004138            -0.004138   \n",
       "Father of the Bride Part II (1995)          -0.011456            -0.011456   \n",
       "...                                               ...                  ...   \n",
       "Spiral (2018)                                1.000000             1.000000   \n",
       "Mission: Impossible - Fallout (2018)         1.000000             1.000000   \n",
       "SuperFly (2018)                              1.000000             1.000000   \n",
       "Iron Soldier (2010)                          1.000000             1.000000   \n",
       "BlacKkKlansman (2018)                       -0.001642            -0.001642   \n",
       "\n",
       "title                                 BlacKkKlansman (2018)  \n",
       "title                                                        \n",
       "Toy Story (1995)                                  -0.028906  \n",
       "Jumanji (1995)                                    -0.018291  \n",
       "Grumpier Old Men (1995)                           -0.011729  \n",
       "Waiting to Exhale (1995)                          -0.004138  \n",
       "Father of the Bride Part II (1995)                -0.011456  \n",
       "...                                                     ...  \n",
       "Spiral (2018)                                     -0.001642  \n",
       "Mission: Impossible - Fallout (2018)              -0.001642  \n",
       "SuperFly (2018)                                   -0.001642  \n",
       "Iron Soldier (2010)                               -0.001642  \n",
       "BlacKkKlansman (2018)                              1.000000  \n",
       "\n",
       "[9724 rows x 9724 columns]"
      ],
      "text/html": "<div>\n<style scoped>\n    .dataframe tbody tr th:only-of-type {\n        vertical-align: middle;\n    }\n\n    .dataframe tbody tr th {\n        vertical-align: top;\n    }\n\n    .dataframe thead th {\n        text-align: right;\n    }\n</style>\n<table border=\"1\" class=\"dataframe\">\n  <thead>\n    <tr style=\"text-align: right;\">\n      <th>title</th>\n      <th>Toy Story (1995)</th>\n      <th>Jumanji (1995)</th>\n      <th>Grumpier Old Men (1995)</th>\n      <th>Waiting to Exhale (1995)</th>\n      <th>Father of the Bride Part II (1995)</th>\n      <th>Heat (1995)</th>\n      <th>Sabrina (1995)</th>\n      <th>Tom and Huck (1995)</th>\n      <th>Sudden Death (1995)</th>\n      <th>GoldenEye (1995)</th>\n      <th>...</th>\n      <th>Dogman (2018)</th>\n      <th>Mamma Mia: Here We Go Again! (2018)</th>\n      <th>Tag (2018)</th>\n      <th>The Man Who Killed Don Quixote (2018)</th>\n      <th>Boundaries (2018)</th>\n      <th>Spiral (2018)</th>\n      <th>Mission: Impossible - Fallout (2018)</th>\n      <th>SuperFly (2018)</th>\n      <th>Iron Soldier (2010)</th>\n      <th>BlacKkKlansman (2018)</th>\n    </tr>\n    <tr>\n      <th>title</th>\n      <th></th>\n      <th></th>\n      <th></th>\n      <th></th>\n      <th></th>\n      <th></th>\n      <th></th>\n      <th></th>\n      <th></th>\n      <th></th>\n      <th></th>\n      <th></th>\n      <th></th>\n      <th></th>\n      <th></th>\n      <th></th>\n      <th></th>\n      <th></th>\n      <th></th>\n      <th></th>\n      <th></th>\n    </tr>\n  </thead>\n  <tbody>\n    <tr>\n      <th>Toy Story (1995)</th>\n      <td>1.000000</td>\n      <td>0.231327</td>\n      <td>0.173213</td>\n      <td>-0.028917</td>\n      <td>0.192474</td>\n      <td>0.192686</td>\n      <td>0.143743</td>\n      <td>0.085477</td>\n      <td>0.177245</td>\n      <td>0.183382</td>\n      <td>...</td>\n      <td>-0.028906</td>\n      <td>-0.028906</td>\n      <td>-0.028906</td>\n      <td>-0.028906</td>\n      <td>-0.028906</td>\n      <td>-0.028906</td>\n      <td>-0.028906</td>\n      <td>-0.028906</td>\n      <td>-0.028906</td>\n      <td>-0.028906</td>\n    </tr>\n    <tr>\n      <th>Jumanji (1995)</th>\n      <td>0.231327</td>\n      <td>1.000000</td>\n      <td>0.191945</td>\n      <td>0.071269</td>\n      <td>0.200526</td>\n      <td>0.158341</td>\n      <td>0.127569</td>\n      <td>0.141540</td>\n      <td>-0.021045</td>\n      <td>0.285086</td>\n      <td>...</td>\n      <td>-0.018291</td>\n      <td>-0.018291</td>\n      <td>-0.018291</td>\n      <td>-0.018291</td>\n      <td>-0.018291</td>\n      <td>-0.018291</td>\n      <td>-0.018291</td>\n      <td>-0.018291</td>\n      <td>-0.018291</td>\n      <td>-0.018291</td>\n    </tr>\n    <tr>\n      <th>Grumpier Old Men (1995)</th>\n      <td>0.173213</td>\n      <td>0.191945</td>\n      <td>1.000000</td>\n      <td>0.067143</td>\n      <td>0.370171</td>\n      <td>0.196442</td>\n      <td>0.351513</td>\n      <td>0.296897</td>\n      <td>0.275812</td>\n      <td>0.136916</td>\n      <td>...</td>\n      <td>-0.011729</td>\n      <td>-0.011729</td>\n      <td>-0.011729</td>\n      <td>-0.011729</td>\n      <td>-0.011729</td>\n      <td>-0.011729</td>\n      <td>-0.011729</td>\n      <td>-0.011729</td>\n      <td>-0.011729</td>\n      <td>-0.011729</td>\n    </tr>\n    <tr>\n      <th>Waiting to Exhale (1995)</th>\n      <td>-0.028917</td>\n      <td>0.071269</td>\n      <td>0.067143</td>\n      <td>1.000000</td>\n      <td>0.167910</td>\n      <td>0.053755</td>\n      <td>0.258075</td>\n      <td>0.148726</td>\n      <td>-0.016025</td>\n      <td>0.056000</td>\n      <td>...</td>\n      <td>-0.004138</td>\n      <td>-0.004138</td>\n      <td>-0.004138</td>\n      <td>-0.004138</td>\n      <td>-0.004138</td>\n      <td>-0.004138</td>\n      <td>-0.004138</td>\n      <td>-0.004138</td>\n      <td>-0.004138</td>\n      <td>-0.004138</td>\n    </tr>\n    <tr>\n      <th>Father of the Bride Part II (1995)</th>\n      <td>0.192474</td>\n      <td>0.200526</td>\n      <td>0.370171</td>\n      <td>0.167910</td>\n      <td>1.000000</td>\n      <td>0.215503</td>\n      <td>0.429890</td>\n      <td>0.265777</td>\n      <td>0.308085</td>\n      <td>0.110833</td>\n      <td>...</td>\n      <td>-0.011456</td>\n      <td>-0.011456</td>\n      <td>-0.011456</td>\n      <td>-0.011456</td>\n      <td>-0.011456</td>\n      <td>-0.011456</td>\n      <td>-0.011456</td>\n      <td>-0.011456</td>\n      <td>-0.011456</td>\n      <td>-0.011456</td>\n    </tr>\n    <tr>\n      <th>...</th>\n      <td>...</td>\n      <td>...</td>\n      <td>...</td>\n      <td>...</td>\n      <td>...</td>\n      <td>...</td>\n      <td>...</td>\n      <td>...</td>\n      <td>...</td>\n      <td>...</td>\n      <td>...</td>\n      <td>...</td>\n      <td>...</td>\n      <td>...</td>\n      <td>...</td>\n      <td>...</td>\n      <td>...</td>\n      <td>...</td>\n      <td>...</td>\n      <td>...</td>\n      <td>...</td>\n    </tr>\n    <tr>\n      <th>Spiral (2018)</th>\n      <td>-0.028906</td>\n      <td>-0.018291</td>\n      <td>-0.011729</td>\n      <td>-0.004138</td>\n      <td>-0.011456</td>\n      <td>-0.017712</td>\n      <td>-0.012033</td>\n      <td>-0.004383</td>\n      <td>-0.006359</td>\n      <td>-0.020524</td>\n      <td>...</td>\n      <td>1.000000</td>\n      <td>1.000000</td>\n      <td>1.000000</td>\n      <td>1.000000</td>\n      <td>1.000000</td>\n      <td>1.000000</td>\n      <td>1.000000</td>\n      <td>1.000000</td>\n      <td>1.000000</td>\n      <td>-0.001642</td>\n    </tr>\n    <tr>\n      <th>Mission: Impossible - Fallout (2018)</th>\n      <td>-0.028906</td>\n      <td>-0.018291</td>\n      <td>-0.011729</td>\n      <td>-0.004138</td>\n      <td>-0.011456</td>\n      <td>-0.017712</td>\n      <td>-0.012033</td>\n      <td>-0.004383</td>\n      <td>-0.006359</td>\n      <td>-0.020524</td>\n      <td>...</td>\n      <td>1.000000</td>\n      <td>1.000000</td>\n      <td>1.000000</td>\n      <td>1.000000</td>\n      <td>1.000000</td>\n      <td>1.000000</td>\n      <td>1.000000</td>\n      <td>1.000000</td>\n      <td>1.000000</td>\n      <td>-0.001642</td>\n    </tr>\n    <tr>\n      <th>SuperFly (2018)</th>\n      <td>-0.028906</td>\n      <td>-0.018291</td>\n      <td>-0.011729</td>\n      <td>-0.004138</td>\n      <td>-0.011456</td>\n      <td>-0.017712</td>\n      <td>-0.012033</td>\n      <td>-0.004383</td>\n      <td>-0.006359</td>\n      <td>-0.020524</td>\n      <td>...</td>\n      <td>1.000000</td>\n      <td>1.000000</td>\n      <td>1.000000</td>\n      <td>1.000000</td>\n      <td>1.000000</td>\n      <td>1.000000</td>\n      <td>1.000000</td>\n      <td>1.000000</td>\n      <td>1.000000</td>\n      <td>-0.001642</td>\n    </tr>\n    <tr>\n      <th>Iron Soldier (2010)</th>\n      <td>-0.028906</td>\n      <td>-0.018291</td>\n      <td>-0.011729</td>\n      <td>-0.004138</td>\n      <td>-0.011456</td>\n      <td>-0.017712</td>\n      <td>-0.012033</td>\n      <td>-0.004383</td>\n      <td>-0.006359</td>\n      <td>-0.020524</td>\n      <td>...</td>\n      <td>1.000000</td>\n      <td>1.000000</td>\n      <td>1.000000</td>\n      <td>1.000000</td>\n      <td>1.000000</td>\n      <td>1.000000</td>\n      <td>1.000000</td>\n      <td>1.000000</td>\n      <td>1.000000</td>\n      <td>-0.001642</td>\n    </tr>\n    <tr>\n      <th>BlacKkKlansman (2018)</th>\n      <td>-0.028906</td>\n      <td>-0.018291</td>\n      <td>-0.011729</td>\n      <td>-0.004138</td>\n      <td>-0.011456</td>\n      <td>-0.017712</td>\n      <td>-0.012033</td>\n      <td>-0.004383</td>\n      <td>-0.006359</td>\n      <td>0.060859</td>\n      <td>...</td>\n      <td>-0.001642</td>\n      <td>-0.001642</td>\n      <td>-0.001642</td>\n      <td>-0.001642</td>\n      <td>-0.001642</td>\n      <td>-0.001642</td>\n      <td>-0.001642</td>\n      <td>-0.001642</td>\n      <td>-0.001642</td>\n      <td>1.000000</td>\n    </tr>\n  </tbody>\n</table>\n<p>9724 rows × 9724 columns</p>\n</div>"
     },
     "metadata": {},
     "execution_count": 32
    }
   ],
   "source": [
    "rank_df = pd.DataFrame(item_similarity, index = titles.title, columns = titles.title)\n",
    "rank_df"
   ]
  },
  {
   "cell_type": "code",
   "execution_count": null,
   "metadata": {},
   "outputs": [],
   "source": [
    "rank_df.to_pickle(\"model.pkl\")"
   ]
  }
 ]
}